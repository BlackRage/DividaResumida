{
  "cells": [
    {
      "cell_type": "markdown",
      "metadata": {
        "id": "view-in-github",
        "colab_type": "text"
      },
      "source": [
        "<a href=\"https://colab.research.google.com/github/BlackRage/DividaResumida/blob/main/MeuControle.ipynb\" target=\"_parent\"><img src=\"https://colab.research.google.com/assets/colab-badge.svg\" alt=\"Open In Colab\"/></a>"
      ]
    },
    {
      "cell_type": "code",
      "execution_count": null,
      "metadata": {
        "colab": {
          "base_uri": "https://localhost:8080/"
        },
        "id": "9IRsmP8Ohdru",
        "outputId": "a2b330dc-c452-430e-fe84-2c662a95fcdd"
      },
      "outputs": [
        {
          "name": "stdout",
          "output_type": "stream",
          "text": [
            "Requirement already satisfied: matplotlib in /usr/local/lib/python3.10/dist-packages (3.7.1)\n",
            "Requirement already satisfied: contourpy>=1.0.1 in /usr/local/lib/python3.10/dist-packages (from matplotlib) (1.2.1)\n",
            "Requirement already satisfied: cycler>=0.10 in /usr/local/lib/python3.10/dist-packages (from matplotlib) (0.12.1)\n",
            "Requirement already satisfied: fonttools>=4.22.0 in /usr/local/lib/python3.10/dist-packages (from matplotlib) (4.51.0)\n",
            "Requirement already satisfied: kiwisolver>=1.0.1 in /usr/local/lib/python3.10/dist-packages (from matplotlib) (1.4.5)\n",
            "Requirement already satisfied: numpy>=1.20 in /usr/local/lib/python3.10/dist-packages (from matplotlib) (1.25.2)\n",
            "Requirement already satisfied: packaging>=20.0 in /usr/local/lib/python3.10/dist-packages (from matplotlib) (24.0)\n",
            "Requirement already satisfied: pillow>=6.2.0 in /usr/local/lib/python3.10/dist-packages (from matplotlib) (9.4.0)\n",
            "Requirement already satisfied: pyparsing>=2.3.1 in /usr/local/lib/python3.10/dist-packages (from matplotlib) (3.1.2)\n",
            "Requirement already satisfied: python-dateutil>=2.7 in /usr/local/lib/python3.10/dist-packages (from matplotlib) (2.8.2)\n",
            "Requirement already satisfied: six>=1.5 in /usr/local/lib/python3.10/dist-packages (from python-dateutil>=2.7->matplotlib) (1.16.0)\n"
          ]
        }
      ],
      "source": [
        "!pip install matplotlib\n",
        "\n",
        "\n"
      ]
    },
    {
      "cell_type": "code",
      "execution_count": null,
      "metadata": {
        "colab": {
          "background_save": true,
          "base_uri": "https://localhost:8080/"
        },
        "id": "dir4WshcBcAU",
        "outputId": "26e1fd96-6ece-4d89-a25e-4164c3f0e6f0"
      },
      "outputs": [
        {
          "name": "stdout",
          "output_type": "stream",
          "text": [
            "\n",
            "Escolha uma opção:\n",
            "1 - Cadastrar dívida\n",
            "2 - Calcular total de dívidas\n",
            "3 - Calcular abatimento do salário\n",
            "4 - Gerar gráfico de gastos\n",
            "5 - Sair\n"
          ]
        }
      ],
      "source": [
        "import sqlite3\n",
        "import matplotlib.pyplot as plt\n",
        "\n",
        "dividas = {}\n",
        "\n",
        "def criar_banco_de_dados():\n",
        "  \"\"\"Cria um banco de dados SQLite para armazenar as dívidas.\"\"\"\n",
        "  conn = sqlite3.connect('dividas.db')\n",
        "  cursor = conn.cursor()\n",
        "  cursor.execute('''\n",
        "    CREATE TABLE IF NOT EXISTS dividas (\n",
        "      id INTEGER PRIMARY KEY AUTOINCREMENT,\n",
        "      nome TEXT NOT NULL,\n",
        "      valor REAL NOT NULL\n",
        "    )\n",
        "  ''')\n",
        "  conn.commit()\n",
        "  conn.close()\n",
        "\n",
        "def cadastrar_divida():\n",
        "  \"\"\"Cadastra uma nova dívida no banco de dados.\"\"\"\n",
        "  nome_divida = input(\"Digite o nome da dívida: \")\n",
        "  valor_divida = float(input(\"Digite o valor da dívida: \"))\n",
        "  dividas[nome_divida] = valor_divida\n",
        "\n",
        "  conn = sqlite3.connect('dividas.db')\n",
        "  cursor = conn.cursor()\n",
        "  cursor.execute('''\n",
        "    INSERT INTO dividas (nome, valor) VALUES (?, ?)\n",
        "  ''', (nome_divida, valor_divida))\n",
        "  conn.commit()\n",
        "  conn.close()\n",
        "  print(\"Dívida cadastrada com sucesso!\")\n",
        "\n",
        "def carregar_dividas():\n",
        "  \"\"\"Carrega as dívidas do banco de dados para o dicionário 'dividas'.\"\"\"\n",
        "  conn = sqlite3.connect('dividas.db')\n",
        "  cursor = conn.cursor()\n",
        "  cursor.execute(\"SELECT nome, valor FROM dividas\")\n",
        "  dividas.clear()\n",
        "  for linha in cursor.fetchall():\n",
        "    nome, valor = linha\n",
        "    dividas[nome] = valor\n",
        "  conn.close()\n",
        "\n",
        "def calcular_total_dividas():\n",
        "  \"\"\"Calcula o valor total das dívidas.\"\"\"\n",
        "  total = sum(dividas.values())\n",
        "  print(f\"O valor total das suas dívidas é R${total:.2f}\")\n",
        "  return total\n",
        "\n",
        "def calcular_abatimento_salario():\n",
        "  \"\"\"Calcula quanto do salário será usado para abater as dívidas e quanto sobra.\"\"\"\n",
        "  salario = float(input(\"Digite o valor do seu salário: \"))\n",
        "  total_dividas = calcular_total_dividas()\n",
        "\n",
        "  if salario >= total_dividas:\n",
        "    abatimento = total_dividas\n",
        "    restante = salario - abatimento\n",
        "    print(\"Seu salário cobre todas as suas dívidas!\")\n",
        "    print(f\"Após pagar as dívidas, você ainda terá R${restante:.2f} para gastar.\")\n",
        "  else:\n",
        "    abatimento = salario\n",
        "    restante = 0\n",
        "    print(\"Seu salário não cobre todas as suas dívidas. É preciso rever seus gastos!\")\n",
        "\n",
        "  print(f\"R${abatimento:.2f} do seu salário serão usados para abater as dívidas.\")\n",
        "  return restante\n",
        "\n",
        "def gerar_grafico_gastos():\n",
        "  \"\"\"Gera um gráfico de pizza com os gastos mensais.\"\"\"\n",
        "  nomes_dividas = list(dividas.keys())\n",
        "  valores_dividas = list(dividas.values())\n",
        "\n",
        "  plt.figure(figsize=(8, 8))\n",
        "  plt.pie(valores_dividas, labels=nomes_dividas, autopct='%1.1f%%', startangle=90)\n",
        "  plt.title(\"Distribuição de Gastos Mensais\")\n",
        "  plt.show()\n",
        "\n",
        "# Cria o banco de dados ao iniciar o programa\n",
        "criar_banco_de_dados()\n",
        "\n",
        "# Carrega as dívidas existentes ao iniciar\n",
        "carregar_dividas()\n",
        "\n",
        "while True:\n",
        "  print(\"\\nEscolha uma opção:\")\n",
        "  print(\"1 - Cadastrar dívida\")\n",
        "  print(\"2 - Calcular total de dívidas\")\n",
        "  print(\"3 - Calcular abatimento do salário\")\n",
        "  print(\"4 - Gerar gráfico de gastos\")\n",
        "  print(\"5 - Sair\")\n",
        "\n",
        "  opcao = input(\"Digite o número da opção desejada: \")\n",
        "\n",
        "  if opcao == '1':\n",
        "    cadastrar_divida()\n",
        "  elif opcao == '2':\n",
        "    calcular_total_dividas()\n",
        "  elif opcao == '3':\n",
        "    calcular_abatimento_salario()\n",
        "  elif opcao == '4':\n",
        "    gerar_grafico_gastos()\n",
        "  elif opcao == '5':\n",
        "    break\n",
        "  else:\n",
        "    print(\"Opção inválida. Tente novamente.\")\n"
      ]
    }
  ],
  "metadata": {
    "colab": {
      "provenance": [],
      "authorship_tag": "ABX9TyPlW0bovlW7zB9PR6JsSboz",
      "include_colab_link": true
    },
    "kernelspec": {
      "display_name": "Python 3",
      "name": "python3"
    },
    "language_info": {
      "name": "python"
    }
  },
  "nbformat": 4,
  "nbformat_minor": 0
}